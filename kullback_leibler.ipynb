{
 "cells": [
  {
   "cell_type": "markdown",
   "metadata": {
    "collapsed": true
   },
   "source": [
    "In chapter 3 of the Deep Learning book, Goodwin defines the Kullback-Leibler (KL) divergence between two probability distributions P and Q. And although the KL divergence is often used as measuring the \"distance\" between distributions, it is actually not a metric because it is asymmetric.\n",
    "\n",
    "The plot on page 91 gives a nice indication of how the asymmetry affects minimizing the KL divergence. The example considers a 1-dimensional Gaussian mixture P and finding a single Gaussian that minimizes KL divergence. This simple problem shows the different notions of choosing KL p||q or KL q||p.\n",
    "\n",
    "Here is how to re-create the plots within Python using numpy and matplotlib."
   ]
  },
  {
   "cell_type": "markdown",
   "metadata": {},
   "source": [
    "First, we need to get the imports right."
   ]
  },
  {
   "cell_type": "code",
   "execution_count": 43,
   "metadata": {},
   "outputs": [],
   "source": [
    "import numpy as np\n",
    "import matplotlib.pyplot as plt\n",
    "import matplotlib.cm as cm\n",
    "%matplotlib inline"
   ]
  },
  {
   "cell_type": "markdown",
   "metadata": {},
   "source": [
    "Next, we define the relevant low-level functions. While normally one would expect that machine learning libraries have these as built-ins, we will simply hard code them for ourselves - not worrying about numerical stability, etc.\n",
    "\n",
    "Let's start with a vectorized version of the KL divergence."
   ]
  },
  {
   "cell_type": "code",
   "execution_count": 44,
   "metadata": {},
   "outputs": [],
   "source": [
    "def kullback_leibler(p_x, p_y):\n",
    "    \"\"\"\n",
    "    compute the kullback-leibler divergence of two discrete probability distributions declared by the arrays p_x, p_y\n",
    "    :param p_x:\n",
    "    :param p_y:\n",
    "    :return:\n",
    "    \"\"\"\n",
    "    return np.array(p_x).dot(np.log(np.array(p_x)) - np.log(np.array(p_y)))"
   ]
  },
  {
   "cell_type": "markdown",
   "metadata": {},
   "source": [
    "The well-known Gaussian density formula - quick and dirty :)"
   ]
  },
  {
   "cell_type": "code",
   "execution_count": 45,
   "metadata": {},
   "outputs": [],
   "source": [
    "def gaussian_density(mu, sigma, xs):\n",
    "    \"\"\"\n",
    "    1-dimensional gaussian distribution\n",
    "    :param mu:\n",
    "    :param sigma:\n",
    "    :param xs:\n",
    "    :return:\n",
    "    \"\"\"\n",
    "    return (1 / (np.sqrt(2*np.pi*sigma))) * np.exp(- ((xs - mu)**2) / (2*sigma))"
   ]
  },
  {
   "cell_type": "markdown",
   "metadata": {},
   "source": [
    "Now, we also need a helper function to get simple mixtures of two Gaussians. That's our factory of the P probability function."
   ]
  },
  {
   "cell_type": "code",
   "execution_count": 46,
   "metadata": {},
   "outputs": [],
   "source": [
    "def function_p(xs, mus, sigmas, weight):\n",
    "    \"\"\"\n",
    "    Mixture of two 1-dimensional gaussians\n",
    "    :param xs:\n",
    "    :param mus:\n",
    "    :param sigmas:\n",
    "    :param weight:\n",
    "    :return:\n",
    "    \"\"\"\n",
    "    gauss_A = gaussian_density(mus[0], sigmas[0], xs)\n",
    "    gauss_B = gaussian_density(mus[1], sigmas[1], xs)\n",
    "    gauss_C = weight * gauss_A + (1-weight) * gauss_B\n",
    "\n",
    "    return gauss_C"
   ]
  },
  {
   "cell_type": "markdown",
   "metadata": {},
   "source": [
    "Next, we define the x-range that we want to use for our functions, plus the parameters of P, which are just two means and sigmas. Note that the first mean (0) and the second one (8) have to be sufficiently separated, otherwise the asymmetric effect is not as noticeable in the plots later on. Also we have the same variance for both Gaussians of the mixture."
   ]
  },
  {
   "cell_type": "code",
   "execution_count": 47,
   "metadata": {},
   "outputs": [],
   "source": [
    "xs = np.arange(-3, 11, 0.01)\n",
    "mus = [0, 8]\n",
    "sigmas = [1, 1]"
   ]
  },
  {
   "cell_type": "markdown",
   "metadata": {},
   "source": [
    "Now it's time to tackle the minimzation problem. Actually, we have two, as mentioned before KL p||q and KL q||p. Here, we simply search through a combination of means and sigmas over a limited range and take the parameter arguments that yield minimum values for KL."
   ]
  },
  {
   "cell_type": "code",
   "execution_count": 48,
   "metadata": {},
   "outputs": [
    {
     "name": "stdout",
     "output_type": "stream",
     "text": [
      "KL p||q:  85.7783155498\nargmin mu: 4.000000 , sigma: 8.900000\nKL q||p:  69.2133250287\nargmin mu: 0.000000 , sigma: 1.000000\n"
     ]
    }
   ],
   "source": [
    "min_p_q = np.inf\n",
    "min_mu_sigma_p_q = ()\n",
    "min_q_p = np.inf\n",
    "min_mu_sigma_q_p = ()\n",
    "\n",
    "# brute-force search for minimum KL-divergence\n",
    "for mu in np.arange(min(mus), max(mus), 0.1):\n",
    "    for sigma in np.arange(1, max(mus) - min(mus) + 1, 0.1):\n",
    "        ps = function_p(xs, mus, sigmas, 0.5)\n",
    "        qs = gaussian_density(mu, sigma, xs)\n",
    "        value_p_q = kullback_leibler(ps, qs)\n",
    "        if value_p_q < min_p_q:\n",
    "            min_p_q = value_p_q\n",
    "            min_mu_sigma_p_q = (mu, sigma)\n",
    "        value_q_p = kullback_leibler(qs, ps)\n",
    "        if value_q_p < min_q_p:\n",
    "            min_q_p = value_q_p\n",
    "            min_mu_sigma_q_p = (mu, sigma)\n",
    "            \n",
    "print \"KL p||q: \", min_p_q\n",
    "print \"argmin mu: %f , sigma: %f\" %(min_mu_sigma_p_q[0], min_mu_sigma_p_q[1])\n",
    "\n",
    "print \"KL q||p: \", min_q_p\n",
    "print \"argmin mu: %f , sigma: %f\" %(min_mu_sigma_q_p[0], min_mu_sigma_q_p[1])"
   ]
  },
  {
   "cell_type": "code",
   "execution_count": 49,
   "metadata": {},
   "outputs": [
    {
     "data": {
      "image/png": "[encoded data removed]",
      "text/plain": [
       "<matplotlib.figure.Figure at 0x7f1446f15450>"
      ]
     },
     "metadata": {},
     "output_type": "display_data"
    }
   ],
   "source": [
    "# plot the 3 distributions\n",
    "colors = cm.rainbow(np.linspace(0, 1, 2))\n",
    "plt.figure()\n",
    "ax = plt.plot(xs, function_p(xs, mus, sigmas, 0.5), label='p(x)')\n",
    "plt.draw()\n",
    "\n",
    "ax2 = plt.plot(xs, gaussian_density(min_mu_sigma_p_q[0], min_mu_sigma_p_q[1], xs), color=colors[0],\n",
    "               linestyle='dashed', label='q*(x) p||q')\n",
    "plt.draw()\n",
    "ax3 = plt.plot(xs, gaussian_density(min_mu_sigma_q_p[0], min_mu_sigma_q_p[1], xs), color=colors[1],\n",
    "               linestyle='dashed', label='q*(x) q||p')\n",
    "plt.draw()\n",
    "plt.xlabel('x')\n",
    "plt.ylabel('probability density')\n",
    "plt.legend()\n",
    "plt.show()"
   ]
  },
  {
   "cell_type": "markdown",
   "metadata": {},
   "source": [
    "And voila - we have the figure.\n",
    "\n",
    "The distribution for Q in KL p||q is chosen w.r.t to the first mode of the mixture P, as it tries to have low probability where P has low probability and thereore aligns to one of the modes of P.\n",
    "\n",
    "For Q in KL q||p, it tries to have high probability where P has high probability and therefore blurs between the two modes - exactly in the middle, stretching variance as wide as possible.\n",
    "\n",
    "You can play with the parameters and see the effects on the chosen Q."
   ]
  },
  {
   "cell_type": "code",
   "execution_count": null,
   "metadata": {},
   "outputs": [],
   "source": [
    ""
   ]
  }
 ],
 "metadata": {
  "kernelspec": {
   "display_name": "Python 2",
   "language": "python",
   "name": "python2"
  },
  "language_info": {
   "codemirror_mode": {
    "name": "ipython",
    "version": 2.0
   },
   "file_extension": ".py",
   "mimetype": "text/x-python",
   "name": "python",
   "nbconvert_exporter": "python",
   "pygments_lexer": "ipython2",
   "version": "2.7.6"
  }
 },
 "nbformat": 4,
 "nbformat_minor": 0
}