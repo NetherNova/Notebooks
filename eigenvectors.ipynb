{
 "cells": [
  {
   "cell_type": "code",
   "execution_count": 9,
   "metadata": {
    "collapsed": true
   },
   "outputs": [],
   "source": [
    "import numpy as np\n",
    "import matplotlib.pyplot as plt"
   ]
  },
  {
   "cell_type": "code",
   "execution_count": 10,
   "metadata": {},
   "outputs": [
    {
     "name": "stdout",
     "output_type": "stream",
     "text": [
      "[ 6. -2.]\n[ 0.70710678  0.70710678] 1.0\n[-0.70710678  0.70710678] 1.0\n0.0\n"
     ]
    }
   ],
   "source": [
    "degrees = range(0, 360)\n",
    "matrix = np.array([[2, 4], [4, 2]])\n",
    "eig = np.linalg.eig(matrix)\n",
    "print eig[0]\n",
    "v1 = eig[1][:, 0]\n",
    "v2 = eig[1][:, 1]\n",
    "\n",
    "print v1, np.linalg.norm(v1)\n",
    "print v2, np.linalg.norm(v2)\n",
    "print v1.dot(v2)"
   ]
  },
  {
   "cell_type": "code",
   "execution_count": 11,
   "metadata": {},
   "outputs": [
    {
     "data": {
      "text/plain": [
       "<matplotlib.quiver.Quiver at 0x7f386174bbd0>"
      ]
     },
     "execution_count": 11,
     "metadata": {},
     "output_type": "execute_result"
    }
   ],
   "source": [
    "unit_vectors = []\n",
    "\n",
    "for d in degrees:\n",
    "    rotation_matrix = np.array([[np.cos(d), np.sin(d)], [-np.sin(d), np.cos(d)]])\n",
    "    v_rot = rotation_matrix.dot(v1)\n",
    "    unit_vectors.append(v_rot)\n",
    "\n",
    "unit_vectors = np.array(unit_vectors)\n",
    "plt.figure()\n",
    "ax = plt.gca()\n",
    "X = np.array([0, 0])\n",
    "Y = np.array([0, 0])\n",
    "ax.quiver(X, Y, np.array([v1[1], v2[1]]), np.array([v1[0], v2[0]]),\n",
    "          angles='xy', scale_units='xy', scale=1)"
   ]
  },
  {
   "cell_type": "code",
   "execution_count": 12,
   "metadata": {},
   "outputs": [],
   "source": [
    "ax2 = plt.scatter(unit_vectors[:, 0], unit_vectors[:, 1])\n",
    "plt.draw()"
   ]
  },
  {
   "cell_type": "code",
   "execution_count": 13,
   "metadata": {},
   "outputs": [
    {
     "name": "stdout",
     "output_type": "stream",
     "text": [
      "[ 4.24264069  4.24264069]\n[ 1.41421356 -1.41421356]\n0.0\n"
     ]
    }
   ],
   "source": [
    "unit_vectors_times_matrix = matrix.dot(unit_vectors.T).T\n",
    "v1_times_matrix = matrix.dot(v1)\n",
    "v2_times_matrix = matrix.dot(v2)\n",
    "\n",
    "print v1_times_matrix\n",
    "print v2_times_matrix\n",
    "print v1_times_matrix.dot(v2_times_matrix) / (np.linalg.norm(v1_times_matrix, 2) * np.linalg.norm(v2_times_matrix, 2))"
   ]
  },
  {
   "cell_type": "code",
   "execution_count": 14,
   "metadata": {},
   "outputs": [],
   "source": [
    "plt.figure()\n",
    "ax = plt.gca()\n",
    "X = np.array([0, 0, 0, 0])\n",
    "Y = np.array([0, 0, 0, 0])\n",
    "ax.quiver(X, Y, np.array([v1[1], v2[1], v1_times_matrix[0], v2_times_matrix[0]]), np.array([v1[0], v2[0], v1_times_matrix[1], v2_times_matrix[1]]),\n",
    "          angles='xy', scale_units='xy', scale=1)\n",
    "ax2 = plt.scatter(unit_vectors_times_matrix[:, 0], unit_vectors_times_matrix[:, 1])\n",
    "plt.draw()\n",
    "plt.show()"
   ]
  },
  {
   "cell_type": "code",
   "execution_count": 8,
   "metadata": {},
   "outputs": [
    {
     "name": "stdout",
     "output_type": "stream",
     "text": [
      "Eigendecomposition: \n[[ 2.  4.]\n [ 4.  2.]]\n"
     ]
    }
   ],
   "source": [
    "print \"Eigendecomposition: \"\n",
    "print eig[1].dot(np.diag(eig[0])).dot(np.linalg.inv(eig[1]))"
   ]
  },
  {
   "cell_type": "code",
   "execution_count": null,
   "metadata": {},
   "outputs": [],
   "source": [
    ""
   ]
  }
 ],
 "metadata": {
  "kernelspec": {
   "display_name": "Python 2",
   "language": "python",
   "name": "python2"
  },
  "language_info": {
   "codemirror_mode": {
    "name": "ipython",
    "version": 2.0
   },
   "file_extension": ".py",
   "mimetype": "text/x-python",
   "name": "python",
   "nbconvert_exporter": "python",
   "pygments_lexer": "ipython2",
   "version": "2.7.6"
  }
 },
 "nbformat": 4,
 "nbformat_minor": 0
}