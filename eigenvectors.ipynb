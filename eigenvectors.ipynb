{
 "cells": [
  {
   "cell_type": "markdown",
   "metadata": {
    "collapsed": true
   },
   "source": [
    "Chapter 2 of the Deep Learning book is about Linear Algebra basics. \n",
    "\n",
    "There is a particularly nice visualization of eigenvectors, which I think gives a more intuitive understanding of their properties. The plot can be found on page 58 in the book, where a circle of unit-norm vectors is manipulated by a random matrix in 2-dimensional space.\n",
    "\n",
    "Here is how to easily re-create the plots - for educational purposes :)"
   ]
  },
  {
   "cell_type": "markdown",
   "metadata": {},
   "source": [
    "In python we import numpy and matplotlib"
   ]
  },
  {
   "cell_type": "code",
   "execution_count": 34,
   "metadata": {},
   "outputs": [],
   "source": [
    "import numpy as np\n",
    "import matplotlib.pyplot as plt\n",
    "%matplotlib inline"
   ]
  },
  {
   "cell_type": "markdown",
   "metadata": {},
   "source": [
    "First, we need to define a random 2-by-2 matrix. I use a symmetric one in this case, since it gives orthonormal eigenvectors that are also used in the book."
   ]
  },
  {
   "cell_type": "code",
   "execution_count": 35,
   "metadata": {},
   "outputs": [
    {
     "name": "stdout",
     "output_type": "stream",
     "text": [
      "eigenvalues:  [ 6. -2.]\neigenvector 1:  [ 0.70710678  0.70710678]\nTrue\neigenvector 2:  [-0.70710678  0.70710678]\nTrue\nTrue\n"
     ]
    }
   ],
   "source": [
    "matrix = np.array([[2, 4], [4, 2]])\n",
    "# eigenvectors and values\n",
    "eig = np.linalg.eig(matrix)\n",
    "print \"eigenvalues: \", eig[0]\n",
    "\n",
    "# eigenvector 1 and 2\n",
    "v1 = eig[1][:, 0]\n",
    "v2 = eig[1][:, 1]\n",
    "\n",
    "# check for unit norm\n",
    "print \"eigenvector 1: \", v1\n",
    "print np.isclose(np.linalg.norm(v1), 1.0)\n",
    "print \"eigenvector 2: \", v2\n",
    "print np.isclose(np.linalg.norm(v2), 1.0)\n",
    "# orthogonal\n",
    "print(v1.dot(v2) == 0)"
   ]
  },
  {
   "cell_type": "markdown",
   "metadata": {},
   "source": [
    "Next, we need to get the circle of unit-norm vectors.\n",
    "I decided to use the concept of rotation matrices within discrete degrees from [0, 360], which yield a set of rotations of the first eigenvector and should give us a unit-norm nice circle.\n",
    "\n",
    "Using the quiver plot, we can also add the vectors as arrows instead of points on the 2-d plane."
   ]
  },
  {
   "cell_type": "code",
   "execution_count": 38,
   "metadata": {},
   "outputs": [
    {
     "data": {
      "image/png": "[encoded data removed]",
      "text/plain": [
       "<matplotlib.figure.Figure at 0x7f3862b51950>"
      ]
     },
     "metadata": {},
     "output_type": "display_data"
    }
   ],
   "source": [
    "degrees = range(0, 360)\n",
    "unit_vectors = []\n",
    "\n",
    "for d in degrees:\n",
    "    rotation_matrix = np.array([[np.cos(d), np.sin(d)], [-np.sin(d), np.cos(d)]])\n",
    "    v_rot = rotation_matrix.dot(v1)\n",
    "    unit_vectors.append(v_rot)\n",
    "\n",
    "unit_vectors = np.array(unit_vectors)\n",
    "plt.figure()\n",
    "ax = plt.gca()\n",
    "X = np.array([0, 0])\n",
    "Y = np.array([0, 0])\n",
    "Q = ax.quiver(X, Y, np.array([v1[1], v2[1]]), np.array([v1[0], v2[0]]),\n",
    "          angles='xy', scale_units='xy', scale=1)\n",
    "\n",
    "ax.annotate(r'$v_1$', xy=(v1[1], v1[0]), xytext=(v1[1], v1[0] - 0.2))\n",
    "ax.annotate(r'$v_2$', xy=(v2[1], v2[0]), xytext=(v2[1], v2[0] + 0.2))\n",
    "\n",
    "ax2 = plt.scatter(unit_vectors[:, 0], unit_vectors[:, 1])\n",
    "plt.draw()\n",
    "plt.show()"
   ]
  },
  {
   "cell_type": "markdown",
   "metadata": {},
   "source": [
    "As one can see, the eigenvectors rest on the circle and are perpendicular."
   ]
  },
  {
   "cell_type": "code",
   "execution_count": 39,
   "metadata": {},
   "outputs": [
    {
     "name": "stdout",
     "output_type": "stream",
     "text": [
      "[ 4.24264069  4.24264069]\n[ 1.41421356 -1.41421356]\n0.0\n"
     ]
    }
   ],
   "source": [
    "unit_vectors_times_matrix = matrix.dot(unit_vectors.T).T\n",
    "v1_times_matrix = matrix.dot(v1)\n",
    "v2_times_matrix = matrix.dot(v2)\n",
    "\n",
    "print v1_times_matrix\n",
    "print v2_times_matrix\n",
    "print v1_times_matrix.dot(v2_times_matrix) / (np.linalg.norm(v1_times_matrix, 2) * np.linalg.norm(v2_times_matrix, 2))"
   ]
  },
  {
   "cell_type": "markdown",
   "metadata": {},
   "source": [
    "The transformed eigenvectors are still orthonormal.\n",
    "\n",
    "If we transform the whole unit circle, we should see that indeed only the two eigenvectors remain untouched by the matrix rotation-wise."
   ]
  },
  {
   "cell_type": "code",
   "execution_count": 40,
   "metadata": {},
   "outputs": [
    {
     "data": {
      "image/png": "[encoded data removed]",
      "text/plain": [
       "<matplotlib.figure.Figure at 0x7f3862b17510>"
      ]
     },
     "metadata": {},
     "output_type": "display_data"
    }
   ],
   "source": [
    "plt.figure()\n",
    "ax = plt.gca()\n",
    "X = np.array([0, 0, 0, 0])\n",
    "Y = np.array([0, 0, 0, 0])\n",
    "ax.quiver(X, Y, np.array([v1[1], v2[1], v1_times_matrix[0], v2_times_matrix[0]]), np.array([v1[0], v2[0], v1_times_matrix[1], v2_times_matrix[1]]),\n",
    "          angles='xy', scale_units='xy', scale=1)\n",
    "ax2 = plt.scatter(unit_vectors_times_matrix[:, 0], unit_vectors_times_matrix[:, 1])\n",
    "plt.draw()\n",
    "plt.show()"
   ]
  },
  {
   "cell_type": "markdown",
   "metadata": {},
   "source": [
    ""
   ]
  },
  {
   "cell_type": "markdown",
   "metadata": {},
   "source": [
    "",
    "\n",
    ""
   ]
  }
 ],
 "metadata": {
  "kernelspec": {
   "display_name": "Python 2",
   "language": "python",
   "name": "python2"
  },
  "language_info": {
   "codemirror_mode": {
    "name": "ipython",
    "version": 2.0
   },
   "file_extension": ".py",
   "mimetype": "text/x-python",
   "name": "python",
   "nbconvert_exporter": "python",
   "pygments_lexer": "ipython2",
   "version": "2.7.6"
  }
 },
 "nbformat": 4,
 "nbformat_minor": 0
}